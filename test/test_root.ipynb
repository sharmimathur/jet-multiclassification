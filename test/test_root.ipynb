{
 "cells": [
  {
   "cell_type": "code",
   "execution_count": 17,
   "metadata": {},
   "outputs": [],
   "source": [
    "import uproot\n",
    "import json\n",
    "import numpy as np"
   ]
  },
  {
   "cell_type": "code",
   "execution_count": 18,
   "metadata": {},
   "outputs": [
    {
     "name": "stdout",
     "output_type": "stream",
     "text": [
      "<TFileRecreate b'test.root' at 0x7f04588113a0>\n"
     ]
    }
   ],
   "source": [
    "h = uproot.recreate(\"testdata/test.root\")\n",
    "print(h)"
   ]
  },
  {
   "cell_type": "code",
   "execution_count": 19,
   "metadata": {},
   "outputs": [],
   "source": [
    "with open(\"../config/test-data-params.json\") as fh:\n",
    "    params = json.load(fh)"
   ]
  },
  {
   "cell_type": "code",
   "execution_count": 20,
   "metadata": {},
   "outputs": [],
   "source": [
    "num_lines = 3"
   ]
  },
  {
   "cell_type": "code",
   "execution_count": 21,
   "metadata": {},
   "outputs": [],
   "source": [
    "newtree = {}\n",
    "extender = {}\n",
    "\n",
    "for feat in params[\"features\"]:\n",
    "    newtree[feat] = uproot.newbranch(np.int32)\n",
    "    extender[feat] = np.tile([0], num_lines)\n",
    "    \n",
    "for label in params[\"labels\"]:\n",
    "    newtree[label] = uproot.newbranch(np.int32)\n",
    "    extender[label] = np.tile([1], num_lines)\n",
    "\n",
    "for spec in params[\"spectators\"]:\n",
    "    newtree[spec] = uproot.newbranch(np.int32)\n",
    "    extender[spec] = np.tile([1], num_lines)\n",
    "  "
   ]
  },
  {
   "cell_type": "code",
   "execution_count": 22,
   "metadata": {},
   "outputs": [
    {
     "name": "stdout",
     "output_type": "stream",
     "text": [
      "{'fj_jetNTracks': <uproot.write.objects.TTree.newbranch object at 0x7f04417f40d0>, 'fj_nSV': <uproot.write.objects.TTree.newbranch object at 0x7f04417f41c0>, 'fj_tau0_trackEtaRel_0': <uproot.write.objects.TTree.newbranch object at 0x7f04417f4070>, 'fj_tau0_trackEtaRel_1': <uproot.write.objects.TTree.newbranch object at 0x7f04417fefa0>, 'fj_tau0_trackEtaRel_2': <uproot.write.objects.TTree.newbranch object at 0x7f04417fee80>, 'fj_tau1_trackEtaRel_0': <uproot.write.objects.TTree.newbranch object at 0x7f04417fedc0>, 'fj_tau1_trackEtaRel_1': <uproot.write.objects.TTree.newbranch object at 0x7f04417fed00>, 'fj_tau1_trackEtaRel_2': <uproot.write.objects.TTree.newbranch object at 0x7f04417fec40>, 'fj_tau_flightDistance2dSig_0': <uproot.write.objects.TTree.newbranch object at 0x7f04417feb80>, 'fj_tau_flightDistance2dSig_1': <uproot.write.objects.TTree.newbranch object at 0x7f04417feac0>, 'fj_tau_vertexDeltaR_0': <uproot.write.objects.TTree.newbranch object at 0x7f04417fea00>, 'fj_tau_vertexEnergyRatio_0': <uproot.write.objects.TTree.newbranch object at 0x7f04417fe940>, 'fj_tau_vertexEnergyRatio_1': <uproot.write.objects.TTree.newbranch object at 0x7f04417fe880>, 'fj_tau_vertexMass_0': <uproot.write.objects.TTree.newbranch object at 0x7f04417fe7c0>, 'fj_tau_vertexMass_1': <uproot.write.objects.TTree.newbranch object at 0x7f04417fe6d0>, 'fj_trackSip2dSigAboveBottom_0': <uproot.write.objects.TTree.newbranch object at 0x7f04417fe550>, 'fj_trackSip2dSigAboveBottom_1': <uproot.write.objects.TTree.newbranch object at 0x7f0441731220>, 'fj_trackSip2dSigAboveCharm_0': <uproot.write.objects.TTree.newbranch object at 0x7f0441731130>, 'fj_trackSipdSig_0': <uproot.write.objects.TTree.newbranch object at 0x7f0441731190>, 'fj_trackSipdSig_0_0': <uproot.write.objects.TTree.newbranch object at 0x7f04417311f0>, 'fj_trackSipdSig_0_1': <uproot.write.objects.TTree.newbranch object at 0x7f0441731280>, 'fj_trackSipdSig_1': <uproot.write.objects.TTree.newbranch object at 0x7f04417312e0>, 'fj_trackSipdSig_1_0': <uproot.write.objects.TTree.newbranch object at 0x7f0441731340>, 'fj_trackSipdSig_1_1': <uproot.write.objects.TTree.newbranch object at 0x7f04417313a0>, 'fj_trackSipdSig_2': <uproot.write.objects.TTree.newbranch object at 0x7f0441731400>, 'fj_trackSipdSig_3': <uproot.write.objects.TTree.newbranch object at 0x7f0441731460>, 'fj_z_ratio': <uproot.write.objects.TTree.newbranch object at 0x7f04417314c0>, 'label_QCD_b': <uproot.write.objects.TTree.newbranch object at 0x7f04417f4280>, 'label_QCD_bb': <uproot.write.objects.TTree.newbranch object at 0x7f0441731550>, 'label_QCD_c': <uproot.write.objects.TTree.newbranch object at 0x7f04417315b0>, 'label_QCD_cc': <uproot.write.objects.TTree.newbranch object at 0x7f0441731610>, 'label_QCD_others': <uproot.write.objects.TTree.newbranch object at 0x7f04417316a0>, 'sample_isQCD': <uproot.write.objects.TTree.newbranch object at 0x7f0441731700>, 'label_H_bb': <uproot.write.objects.TTree.newbranch object at 0x7f0441731760>, 'fj_sdmass': <uproot.write.objects.TTree.newbranch object at 0x7f0441731640>, 'fj_pt': <uproot.write.objects.TTree.newbranch object at 0x7f04417317f0>}\n",
      "{'fj_jetNTracks': array([0, 0, 0]), 'fj_nSV': array([0, 0, 0]), 'fj_tau0_trackEtaRel_0': array([0, 0, 0]), 'fj_tau0_trackEtaRel_1': array([0, 0, 0]), 'fj_tau0_trackEtaRel_2': array([0, 0, 0]), 'fj_tau1_trackEtaRel_0': array([0, 0, 0]), 'fj_tau1_trackEtaRel_1': array([0, 0, 0]), 'fj_tau1_trackEtaRel_2': array([0, 0, 0]), 'fj_tau_flightDistance2dSig_0': array([0, 0, 0]), 'fj_tau_flightDistance2dSig_1': array([0, 0, 0]), 'fj_tau_vertexDeltaR_0': array([0, 0, 0]), 'fj_tau_vertexEnergyRatio_0': array([0, 0, 0]), 'fj_tau_vertexEnergyRatio_1': array([0, 0, 0]), 'fj_tau_vertexMass_0': array([0, 0, 0]), 'fj_tau_vertexMass_1': array([0, 0, 0]), 'fj_trackSip2dSigAboveBottom_0': array([0, 0, 0]), 'fj_trackSip2dSigAboveBottom_1': array([0, 0, 0]), 'fj_trackSip2dSigAboveCharm_0': array([0, 0, 0]), 'fj_trackSipdSig_0': array([0, 0, 0]), 'fj_trackSipdSig_0_0': array([0, 0, 0]), 'fj_trackSipdSig_0_1': array([0, 0, 0]), 'fj_trackSipdSig_1': array([0, 0, 0]), 'fj_trackSipdSig_1_0': array([0, 0, 0]), 'fj_trackSipdSig_1_1': array([0, 0, 0]), 'fj_trackSipdSig_2': array([0, 0, 0]), 'fj_trackSipdSig_3': array([0, 0, 0]), 'fj_z_ratio': array([0, 0, 0]), 'label_QCD_b': array([1, 1, 1]), 'label_QCD_bb': array([1, 1, 1]), 'label_QCD_c': array([1, 1, 1]), 'label_QCD_cc': array([1, 1, 1]), 'label_QCD_others': array([1, 1, 1]), 'sample_isQCD': array([1, 1, 1]), 'label_H_bb': array([1, 1, 1]), 'fj_sdmass': array([1, 1, 1]), 'fj_pt': array([1, 1, 1])}\n"
     ]
    }
   ],
   "source": [
    "print(newtree)\n",
    "print(extender)"
   ]
  },
  {
   "cell_type": "code",
   "execution_count": 10,
   "metadata": {},
   "outputs": [
    {
     "ename": "SyntaxError",
     "evalue": "invalid syntax (<ipython-input-10-3f250cf1a3e3>, line 1)",
     "output_type": "error",
     "traceback": [
      "\u001b[0;36m  File \u001b[0;32m\"<ipython-input-10-3f250cf1a3e3>\"\u001b[0;36m, line \u001b[0;32m1\u001b[0m\n\u001b[0;31m    h[\"deepntuplizer/tree\"] =\u001b[0m\n\u001b[0m                              ^\u001b[0m\n\u001b[0;31mSyntaxError\u001b[0m\u001b[0;31m:\u001b[0m invalid syntax\n"
     ]
    }
   ],
   "source": [
    "#h[\"deepntuplizer/tree\"] = "
   ]
  },
  {
   "cell_type": "code",
   "execution_count": 23,
   "metadata": {},
   "outputs": [],
   "source": [
    "h['deepntuplizertree'] = uproot.newtree(newtree)"
   ]
  },
  {
   "cell_type": "code",
   "execution_count": 24,
   "metadata": {},
   "outputs": [],
   "source": [
    "h['deepntuplizertree'].extend(extender)"
   ]
  },
  {
   "cell_type": "code",
   "execution_count": null,
   "metadata": {},
   "outputs": [],
   "source": []
  }
 ],
 "metadata": {
  "kernelspec": {
   "display_name": "ml-latest",
   "language": "python",
   "name": "ml-latest"
  },
  "language_info": {
   "codemirror_mode": {
    "name": "ipython",
    "version": 3
   },
   "file_extension": ".py",
   "mimetype": "text/x-python",
   "name": "python",
   "nbconvert_exporter": "python",
   "pygments_lexer": "ipython3",
   "version": "3.8.6"
  }
 },
 "nbformat": 4,
 "nbformat_minor": 4
}
